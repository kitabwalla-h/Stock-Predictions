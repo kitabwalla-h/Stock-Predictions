{
 "cells": [
  {
   "cell_type": "code",
<<<<<<< HEAD
   "execution_count": 35,
   "metadata": {},
   "outputs": [],
   "source": [
    "import yfinance as yf\n",
    "import pandas as pd\n",
    "import os\n"
   ]
  },
  {
   "cell_type": "code",
   "execution_count": 36,
   "metadata": {},
   "outputs": [],
   "source": [
    "if os.path.exists(\"sp500.csv\"):\n",
    "    sp500 = pd.read_csv(\"sp500.csv\", index_col=0)\n",
    "else:\n",
    "    sp500 = yf.Ticker(\"^GSPC\")\n",
    "    sp500 = sp500.history(period=\"max\")\n",
    "    sp500.to_csv(\"sp500.csv\")"
   ]
  },
  {
   "cell_type": "code",
   "execution_count": 42,
   "metadata": {},
   "outputs": [],
   "source": [
    "sp500.index = pd.to_datetime(sp500.index)"
   ]
  },
  {
   "cell_type": "code",
   "execution_count": 49,
   "metadata": {},
   "outputs": [],
   "source": [
    "# filter dates to only inlcude after 1990-01-01\n",
    "filter_date = pd.Timestamp('1990-01-01', tz='UTC').tz_convert('US/Eastern')\n",
    "sp500 = sp500[sp500.index >= filter_date]\n"
   ]
  },
  {
   "cell_type": "code",
   "execution_count": 52,
=======
   "execution_count": 16,
>>>>>>> 982786c (creating files)
   "metadata": {},
   "outputs": [
    {
     "data": {
<<<<<<< HEAD
      "text/plain": [
       "<AxesSubplot:xlabel='Date'>"
      ]
     },
     "execution_count": 52,
     "metadata": {},
     "output_type": "execute_result"
    },
    {
     "data": {
      "image/png": "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",
=======
      "image/png": "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",
>>>>>>> 982786c (creating files)
      "text/plain": [
       "<Figure size 432x288 with 1 Axes>"
      ]
     },
     "metadata": {
      "needs_background": "light"
     },
     "output_type": "display_data"
    }
   ],
   "source": [
<<<<<<< HEAD
    "# plot data to see historical closing prices\n",
    "sp500.plot.line(y=\"Close\", use_index=True)"
=======
    "import yfinance as yf\n",
    "import pandas as pd\n",
    "import os\n",
    "if os.path.exists(\"sp500.csv\"):\n",
    "    sp500 = pd.read_csv(\"sp500.csv\", index_col=0)\n",
    "else:\n",
    "    sp500 = yf.Ticker(\"^GSPC\")\n",
    "    sp500 = sp500.history(period=\"max\")\n",
    "    sp500.to_csv(\"sp500.csv\")\n",
    "sp500.index = pd.to_datetime(sp500.index)\n",
    "\n",
    "# plot closing price against the index\n",
    "closing_data = sp500.plot(y = \"Close\", use_index=True)\n"
>>>>>>> 982786c (creating files)
   ]
  },
  {
   "cell_type": "code",
<<<<<<< HEAD
   "execution_count": 50,
=======
   "execution_count": 17,
>>>>>>> 982786c (creating files)
   "metadata": {},
   "outputs": [],
   "source": [
    "# delete unwanted columns\n",
    "del sp500[\"Dividends\"]\n",
    "del sp500[\"Stock Splits\"]"
   ]
  },
  {
   "cell_type": "code",
<<<<<<< HEAD
   "execution_count": 51,
   "metadata": {},
   "outputs": [
    {
     "name": "stderr",
     "output_type": "stream",
     "text": [
      "/var/folders/s3/_hbrgswx2k72nw__rm8cnm780000gn/T/ipykernel_46439/3816891677.py:2: SettingWithCopyWarning: \n",
      "A value is trying to be set on a copy of a slice from a DataFrame.\n",
      "Try using .loc[row_indexer,col_indexer] = value instead\n",
      "\n",
      "See the caveats in the documentation: https://pandas.pydata.org/pandas-docs/stable/user_guide/indexing.html#returning-a-view-versus-a-copy\n",
      "  sp500[\"Tomorrow\"] = sp500[\"Close\"].shift(-1)\n",
      "/var/folders/s3/_hbrgswx2k72nw__rm8cnm780000gn/T/ipykernel_46439/3816891677.py:5: SettingWithCopyWarning: \n",
      "A value is trying to be set on a copy of a slice from a DataFrame.\n",
      "Try using .loc[row_indexer,col_indexer] = value instead\n",
      "\n",
      "See the caveats in the documentation: https://pandas.pydata.org/pandas-docs/stable/user_guide/indexing.html#returning-a-view-versus-a-copy\n",
      "  sp500[\"Target\"] = (sp500[\"Tomorrow\"] > sp500[\"Close\"]).astype(int)\n"
     ]
    },
    {
=======
   "execution_count": 18,
   "metadata": {},
   "outputs": [
    {
>>>>>>> 982786c (creating files)
     "data": {
      "text/html": [
       "<div>\n",
       "<style scoped>\n",
       "    .dataframe tbody tr th:only-of-type {\n",
       "        vertical-align: middle;\n",
       "    }\n",
       "\n",
       "    .dataframe tbody tr th {\n",
       "        vertical-align: top;\n",
       "    }\n",
       "\n",
       "    .dataframe thead th {\n",
       "        text-align: right;\n",
       "    }\n",
       "</style>\n",
       "<table border=\"1\" class=\"dataframe\">\n",
       "  <thead>\n",
       "    <tr style=\"text-align: right;\">\n",
       "      <th></th>\n",
       "      <th>Open</th>\n",
       "      <th>High</th>\n",
       "      <th>Low</th>\n",
       "      <th>Close</th>\n",
       "      <th>Volume</th>\n",
       "      <th>Tomorrow</th>\n",
       "      <th>Target</th>\n",
       "    </tr>\n",
       "    <tr>\n",
       "      <th>Date</th>\n",
       "      <th></th>\n",
       "      <th></th>\n",
       "      <th></th>\n",
       "      <th></th>\n",
       "      <th></th>\n",
       "      <th></th>\n",
       "      <th></th>\n",
       "    </tr>\n",
       "  </thead>\n",
       "  <tbody>\n",
       "    <tr>\n",
<<<<<<< HEAD
       "      <th>1990-01-02 00:00:00-05:00</th>\n",
       "      <td>353.399994</td>\n",
       "      <td>359.690002</td>\n",
       "      <td>351.980011</td>\n",
       "      <td>359.690002</td>\n",
       "      <td>162070000</td>\n",
       "      <td>358.760010</td>\n",
       "      <td>0</td>\n",
       "    </tr>\n",
       "    <tr>\n",
       "      <th>1990-01-03 00:00:00-05:00</th>\n",
       "      <td>359.690002</td>\n",
       "      <td>360.589996</td>\n",
       "      <td>357.890015</td>\n",
       "      <td>358.760010</td>\n",
       "      <td>192330000</td>\n",
       "      <td>355.670013</td>\n",
       "      <td>0</td>\n",
       "    </tr>\n",
       "    <tr>\n",
       "      <th>1990-01-04 00:00:00-05:00</th>\n",
       "      <td>358.760010</td>\n",
       "      <td>358.760010</td>\n",
       "      <td>352.890015</td>\n",
       "      <td>355.670013</td>\n",
       "      <td>177000000</td>\n",
       "      <td>352.200012</td>\n",
       "      <td>0</td>\n",
       "    </tr>\n",
       "    <tr>\n",
       "      <th>1990-01-05 00:00:00-05:00</th>\n",
       "      <td>355.670013</td>\n",
       "      <td>355.670013</td>\n",
       "      <td>351.350006</td>\n",
       "      <td>352.200012</td>\n",
       "      <td>158530000</td>\n",
       "      <td>353.790009</td>\n",
       "      <td>1</td>\n",
       "    </tr>\n",
       "    <tr>\n",
       "      <th>1990-01-08 00:00:00-05:00</th>\n",
       "      <td>352.200012</td>\n",
       "      <td>354.239990</td>\n",
       "      <td>350.540009</td>\n",
       "      <td>353.790009</td>\n",
       "      <td>140110000</td>\n",
       "      <td>349.619995</td>\n",
=======
       "      <th>1927-12-30 00:00:00-05:00</th>\n",
       "      <td>17.660000</td>\n",
       "      <td>17.660000</td>\n",
       "      <td>17.660000</td>\n",
       "      <td>17.660000</td>\n",
       "      <td>0</td>\n",
       "      <td>17.760000</td>\n",
       "      <td>1</td>\n",
       "    </tr>\n",
       "    <tr>\n",
       "      <th>1928-01-03 00:00:00-05:00</th>\n",
       "      <td>17.760000</td>\n",
       "      <td>17.760000</td>\n",
       "      <td>17.760000</td>\n",
       "      <td>17.760000</td>\n",
       "      <td>0</td>\n",
       "      <td>17.719999</td>\n",
       "      <td>0</td>\n",
       "    </tr>\n",
       "    <tr>\n",
       "      <th>1928-01-04 00:00:00-05:00</th>\n",
       "      <td>17.719999</td>\n",
       "      <td>17.719999</td>\n",
       "      <td>17.719999</td>\n",
       "      <td>17.719999</td>\n",
       "      <td>0</td>\n",
       "      <td>17.549999</td>\n",
       "      <td>0</td>\n",
       "    </tr>\n",
       "    <tr>\n",
       "      <th>1928-01-05 00:00:00-05:00</th>\n",
       "      <td>17.549999</td>\n",
       "      <td>17.549999</td>\n",
       "      <td>17.549999</td>\n",
       "      <td>17.549999</td>\n",
       "      <td>0</td>\n",
       "      <td>17.660000</td>\n",
       "      <td>1</td>\n",
       "    </tr>\n",
       "    <tr>\n",
       "      <th>1928-01-06 00:00:00-05:00</th>\n",
       "      <td>17.660000</td>\n",
       "      <td>17.660000</td>\n",
       "      <td>17.660000</td>\n",
       "      <td>17.660000</td>\n",
       "      <td>0</td>\n",
       "      <td>17.500000</td>\n",
>>>>>>> 982786c (creating files)
       "      <td>0</td>\n",
       "    </tr>\n",
       "    <tr>\n",
       "      <th>...</th>\n",
       "      <td>...</td>\n",
       "      <td>...</td>\n",
       "      <td>...</td>\n",
       "      <td>...</td>\n",
       "      <td>...</td>\n",
       "      <td>...</td>\n",
       "      <td>...</td>\n",
       "    </tr>\n",
       "    <tr>\n",
       "      <th>2024-02-21 00:00:00-05:00</th>\n",
       "      <td>4963.029785</td>\n",
       "      <td>4983.209961</td>\n",
       "      <td>4946.000000</td>\n",
       "      <td>4981.799805</td>\n",
       "      <td>3788390000</td>\n",
       "      <td>5087.029785</td>\n",
       "      <td>1</td>\n",
       "    </tr>\n",
       "    <tr>\n",
       "      <th>2024-02-22 00:00:00-05:00</th>\n",
       "      <td>5038.830078</td>\n",
       "      <td>5094.390137</td>\n",
       "      <td>5038.830078</td>\n",
       "      <td>5087.029785</td>\n",
       "      <td>4051710000</td>\n",
       "      <td>5088.799805</td>\n",
       "      <td>1</td>\n",
       "    </tr>\n",
       "    <tr>\n",
       "      <th>2024-02-23 00:00:00-05:00</th>\n",
       "      <td>5100.919922</td>\n",
       "      <td>5111.060059</td>\n",
       "      <td>5081.459961</td>\n",
       "      <td>5088.799805</td>\n",
       "      <td>3672790000</td>\n",
       "      <td>5069.529785</td>\n",
       "      <td>0</td>\n",
       "    </tr>\n",
       "    <tr>\n",
       "      <th>2024-02-26 00:00:00-05:00</th>\n",
       "      <td>5093.000000</td>\n",
       "      <td>5097.660156</td>\n",
       "      <td>5068.910156</td>\n",
       "      <td>5069.529785</td>\n",
       "      <td>3683930000</td>\n",
       "      <td>5078.180176</td>\n",
       "      <td>1</td>\n",
       "    </tr>\n",
       "    <tr>\n",
       "      <th>2024-02-27 00:00:00-05:00</th>\n",
       "      <td>5074.600098</td>\n",
       "      <td>5080.689941</td>\n",
       "      <td>5057.290039</td>\n",
       "      <td>5078.180176</td>\n",
       "      <td>3925950000</td>\n",
       "      <td>NaN</td>\n",
       "      <td>0</td>\n",
       "    </tr>\n",
       "  </tbody>\n",
       "</table>\n",
<<<<<<< HEAD
       "<p>8604 rows × 7 columns</p>\n",
=======
       "<p>24154 rows × 7 columns</p>\n",
>>>>>>> 982786c (creating files)
       "</div>"
      ],
      "text/plain": [
       "                                  Open         High          Low        Close  \\\n",
       "Date                                                                            \n",
<<<<<<< HEAD
       "1990-01-02 00:00:00-05:00   353.399994   359.690002   351.980011   359.690002   \n",
       "1990-01-03 00:00:00-05:00   359.690002   360.589996   357.890015   358.760010   \n",
       "1990-01-04 00:00:00-05:00   358.760010   358.760010   352.890015   355.670013   \n",
       "1990-01-05 00:00:00-05:00   355.670013   355.670013   351.350006   352.200012   \n",
       "1990-01-08 00:00:00-05:00   352.200012   354.239990   350.540009   353.790009   \n",
=======
       "1927-12-30 00:00:00-05:00    17.660000    17.660000    17.660000    17.660000   \n",
       "1928-01-03 00:00:00-05:00    17.760000    17.760000    17.760000    17.760000   \n",
       "1928-01-04 00:00:00-05:00    17.719999    17.719999    17.719999    17.719999   \n",
       "1928-01-05 00:00:00-05:00    17.549999    17.549999    17.549999    17.549999   \n",
       "1928-01-06 00:00:00-05:00    17.660000    17.660000    17.660000    17.660000   \n",
>>>>>>> 982786c (creating files)
       "...                                ...          ...          ...          ...   \n",
       "2024-02-21 00:00:00-05:00  4963.029785  4983.209961  4946.000000  4981.799805   \n",
       "2024-02-22 00:00:00-05:00  5038.830078  5094.390137  5038.830078  5087.029785   \n",
       "2024-02-23 00:00:00-05:00  5100.919922  5111.060059  5081.459961  5088.799805   \n",
       "2024-02-26 00:00:00-05:00  5093.000000  5097.660156  5068.910156  5069.529785   \n",
       "2024-02-27 00:00:00-05:00  5074.600098  5080.689941  5057.290039  5078.180176   \n",
       "\n",
       "                               Volume     Tomorrow  Target  \n",
       "Date                                                        \n",
<<<<<<< HEAD
       "1990-01-02 00:00:00-05:00   162070000   358.760010       0  \n",
       "1990-01-03 00:00:00-05:00   192330000   355.670013       0  \n",
       "1990-01-04 00:00:00-05:00   177000000   352.200012       0  \n",
       "1990-01-05 00:00:00-05:00   158530000   353.790009       1  \n",
       "1990-01-08 00:00:00-05:00   140110000   349.619995       0  \n",
=======
       "1927-12-30 00:00:00-05:00           0    17.760000       1  \n",
       "1928-01-03 00:00:00-05:00           0    17.719999       0  \n",
       "1928-01-04 00:00:00-05:00           0    17.549999       0  \n",
       "1928-01-05 00:00:00-05:00           0    17.660000       1  \n",
       "1928-01-06 00:00:00-05:00           0    17.500000       0  \n",
>>>>>>> 982786c (creating files)
       "...                               ...          ...     ...  \n",
       "2024-02-21 00:00:00-05:00  3788390000  5087.029785       1  \n",
       "2024-02-22 00:00:00-05:00  4051710000  5088.799805       1  \n",
       "2024-02-23 00:00:00-05:00  3672790000  5069.529785       0  \n",
       "2024-02-26 00:00:00-05:00  3683930000  5078.180176       1  \n",
       "2024-02-27 00:00:00-05:00  3925950000          NaN       0  \n",
       "\n",
<<<<<<< HEAD
       "[8604 rows x 7 columns]"
      ]
     },
     "execution_count": 51,
=======
       "[24154 rows x 7 columns]"
      ]
     },
     "execution_count": 18,
>>>>>>> 982786c (creating files)
     "metadata": {},
     "output_type": "execute_result"
    }
   ],
   "source": [
    "# create column for tomorrow's price\n",
    "sp500[\"Tomorrow\"] = sp500[\"Close\"].shift(-1)\n",
    "\n",
<<<<<<< HEAD
    "# create target, is tomorrow price greater than today's price, creating as integer\n",
    "sp500[\"Target\"] = (sp500[\"Tomorrow\"] > sp500[\"Close\"]).astype(int)"
=======
    "# create target, is tomorrow price greater than today's price\n",
    "sp500[\"Target\"] = (sp500[\"Tomorrow\"] > sp500[\"Close\"]).astype(int)\n",
    "sp500\n",
    "\n",
    "# remove all day that ocurred after 1990\n",
    "sp500 = sp500.loc[\"1990-01-01 00:00:00-05\":].copy()"
>>>>>>> 982786c (creating files)
   ]
  }
 ],
 "metadata": {
  "kernelspec": {
   "display_name": "base",
   "language": "python",
   "name": "python3"
  },
  "language_info": {
   "codemirror_mode": {
    "name": "ipython",
    "version": 3
   },
   "file_extension": ".py",
   "mimetype": "text/x-python",
   "name": "python",
   "nbconvert_exporter": "python",
   "pygments_lexer": "ipython3",
   "version": "3.9.7"
  }
 },
 "nbformat": 4,
 "nbformat_minor": 2
}
